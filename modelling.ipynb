{
  "nbformat": 4,
  "nbformat_minor": 0,
  "metadata": {
    "colab": {
      "name": "fasteners_classification.ipynb",
      "provenance": [],
      "collapsed_sections": []
    },
    "kernelspec": {
      "name": "python3",
      "display_name": "Python 3"
    },
    "language_info": {
      "name": "python"
    },
    "accelerator": "GPU"
  },
  "cells": [
    {
      "cell_type": "markdown",
      "metadata": {
        "id": "DtRP0SN5QP1w"
      },
      "source": [
        "# Fastener Image Classification using Convolutional Neural Network\n",
        "This project aims to design, build, train and tune a CNN to classify a set of images belonging to the different classes of mechanical fasteners; namely nuts, bolts, washers and locating pins.  \n",
        "The data used here is already preprocessed and stored as a `images.npy` file along with the corresponding labels in `labels.npy` using the `data_storage.py` script in the repo. The original images were obtained from the GitHub repo titled [\"Mech-parts-classification-seq-model\"](https://github.com/Promech2020/Mech-parts-classification-seq-model) of [Pro-Mech Minds](https://www.promechminds.com/). \n",
        "\n",
        "**NOTE:**  \n",
        "All references to external resources are present as links in the respective words or phrases instead of a traditional reference section. All code blocks that need to be run only if Colab is used start with the comment `#GConly`.\n"
      ]
    },
    {
      "cell_type": "code",
      "metadata": {
        "id": "Mmk3-iQPSj8-"
      },
      "source": [
        "%tensorflow_version 2.x\n",
        "%matplotlib inline"
      ],
      "execution_count": 1,
      "outputs": []
    },
    {
      "cell_type": "markdown",
      "metadata": {
        "id": "sM1YzLDESqIU"
      },
      "source": [
        "The above magic commands are used to ensure that Tensorflow 2.0 is used and any matplotlib objects when displayed are within the notebook. Now, we import all the standard libraries that we require."
      ]
    },
    {
      "cell_type": "code",
      "metadata": {
        "id": "v5-goeinP5oT"
      },
      "source": [
        "import numpy as np\n",
        "import pandas as pd\n",
        "import matplotlib.pyplot as plt\n",
        "import tensorflow as tf\n",
        "from tensorflow import keras"
      ],
      "execution_count": 2,
      "outputs": []
    },
    {
      "cell_type": "markdown",
      "metadata": {
        "id": "gN-ATkskTW7y"
      },
      "source": [
        "Since this is done in Colab, we run the following commands to ensure that a GPU is allocated and is being used for our work"
      ]
    },
    {
      "cell_type": "code",
      "metadata": {
        "colab": {
          "base_uri": "https://localhost:8080/"
        },
        "id": "bNgpDwl6TuvO",
        "outputId": "28b4560d-6ddf-465d-cf9b-535bbdd4fb0d"
      },
      "source": [
        "#GConly\n",
        "device_name = tf.test.gpu_device_name()\n",
        "if device_name != '/device:GPU:0':\n",
        "  print('GPU device not found')\n",
        "print('Found GPU at: {}'.format(device_name))"
      ],
      "execution_count": 3,
      "outputs": [
        {
          "output_type": "stream",
          "text": [
            "Found GPU at: /device:GPU:0\n"
          ],
          "name": "stdout"
        }
      ]
    },
    {
      "cell_type": "markdown",
      "metadata": {
        "id": "D-aALSpXTycI"
      },
      "source": [
        "## Loading in our Data\n",
        "View README before doing the following. The data is stored in my Google Drive, so we mount it before accessing the files."
      ]
    },
    {
      "cell_type": "code",
      "metadata": {
        "colab": {
          "base_uri": "https://localhost:8080/"
        },
        "id": "6f6YQQ-IT7NT",
        "outputId": "bec48960-6c97-4073-f469-63a7236dcf96"
      },
      "source": [
        "#GConly\n",
        "from google.colab import drive\n",
        "drive.mount(\"/content/gdrive\")"
      ],
      "execution_count": 4,
      "outputs": [
        {
          "output_type": "stream",
          "text": [
            "Drive already mounted at /content/gdrive; to attempt to forcibly remount, call drive.mount(\"/content/gdrive\", force_remount=True).\n"
          ],
          "name": "stdout"
        }
      ]
    },
    {
      "cell_type": "markdown",
      "metadata": {
        "id": "wyDj_c8ZUOTW"
      },
      "source": [
        "Now, we can load in our image data and labels as numpy arrays using the *numpy.load()* function."
      ]
    },
    {
      "cell_type": "code",
      "metadata": {
        "colab": {
          "base_uri": "https://localhost:8080/"
        },
        "id": "A8o_6fMxUi_X",
        "outputId": "2545347d-f9be-419e-d191-08fa28b31414"
      },
      "source": [
        "X = np.load(\"/content/gdrive/My Drive/fastener_classification/images.npy\", allow_pickle=True)\n",
        "print(type(X))\n",
        "print(X.shape)"
      ],
      "execution_count": 5,
      "outputs": [
        {
          "output_type": "stream",
          "text": [
            "<class 'numpy.ndarray'>\n",
            "(7616, 224, 224)\n"
          ],
          "name": "stdout"
        }
      ]
    },
    {
      "cell_type": "code",
      "metadata": {
        "colab": {
          "base_uri": "https://localhost:8080/"
        },
        "id": "UFa9ym5QVIt7",
        "outputId": "a2b978b5-6990-4527-88b6-2b673341e513"
      },
      "source": [
        "y = np.load(\"/content/gdrive/My Drive/fastener_classification/labels.npy\", allow_pickle=True)\n",
        "print(type(y))\n",
        "print(y.shape)"
      ],
      "execution_count": 6,
      "outputs": [
        {
          "output_type": "stream",
          "text": [
            "<class 'numpy.ndarray'>\n",
            "(7616,)\n"
          ],
          "name": "stdout"
        }
      ]
    },
    {
      "cell_type": "markdown",
      "metadata": {
        "id": "_HG-YGylVgdO"
      },
      "source": [
        "We have successfully loaded in our dataset which has 7616 observations, each an array of size 224 by 224 with all elements lying between 0 and 1 based on the pixel values (called features). Let us check our data using a simple script shown below that takes any index value and displays the correspnoding image as well as its label."
      ]
    },
    {
      "cell_type": "code",
      "metadata": {
        "colab": {
          "base_uri": "https://localhost:8080/",
          "height": 339
        },
        "id": "epmw-m4yVhjl",
        "outputId": "64ed411c-2202-4025-9e9e-2f172a3be364"
      },
      "source": [
        "label_list = [\"bolt\", \"locating pin\", \"nut\", \"washer\"]\n",
        "\n",
        "index = int(input('Enter any image index: '))\n",
        "print(\"Label number:\", y[index])\n",
        "print(\"Fastener type:\", label_list[y[index]])\n",
        "plt.imshow(X[index], cmap='gray')"
      ],
      "execution_count": 7,
      "outputs": [
        {
          "output_type": "stream",
          "text": [
            "Enter any image index: 5000\n",
            "Label number: 3\n",
            "Fastener type: nut\n"
          ],
          "name": "stdout"
        },
        {
          "output_type": "execute_result",
          "data": {
            "text/plain": [
              "<matplotlib.image.AxesImage at 0x7f46e018b6d0>"
            ]
          },
          "metadata": {
            "tags": []
          },
          "execution_count": 7
        },
        {
          "output_type": "display_data",
          "data": {
            "image/png": "[encoded data removed]",
            "text/plain": [
              "<Figure size 432x288 with 1 Axes>"
            ]
          },
          "metadata": {
            "tags": [],
            "needs_background": "light"
          }
        }
      ]
    },
    {
      "cell_type": "markdown",
      "metadata": {
        "id": "pZgi3hTUetL7"
      },
      "source": [
        "## Undertanding our Data\n",
        "Now that we have successfully loaded in our data and had an initial look at its characteristics, let us present the fine details of structure and design of the original iamges as well as the processed array data.  \n",
        "The detailes about the original images are presented in a [Medium article](https://towardsdatascience.com/artificial-intelligence-in-mechanical-engineering-a9dd94adc492) written by [Sunny K. Tuladhar](https://medium.com/@k.sunman91),\n",
        "Senior Mechanical Engineer/Team Leader at Pro-Mech Minds and Engineering Services. In it, the team at Pro-Mech Mind found 238 3D models of the 4 parts being discussed. Then, a program using FreeCAD API was run on these images that automatically took 8 isometric screenshots of 224 x 224 pixels of each part. This can be considered as data augmentation, even though it does not strictly follow the standard definition. In total, 4_classes x 238_images x 8_augments gives us 7616 images, each of size 224x224, with 1904 images per class. All of the images were saved in `.png` format and separated into folders based on class.  \n",
        "Now, we extracted these images using the `data_storage.py` script. It accesses each image and converts them into a feature array using the *scikit-image* library. Each image will give an array of size 224x224, each element representing a pixel. All the image arrays are combined sequentially to give a numpy array of size 7616x24x24. The labels are stored simultaneouly in a numpy array of size 7616. Both these arrays are then saved as `npy` files so that we can easily load them here in our notebook, as performed above. Note the `images.npy` file saved by the script will be over 2 GB in size. If storage space or RAM is a constraint, save as `.npz` file as it is auto compression of the `.npy`."
      ]
    },
    {
      "cell_type": "markdown",
      "metadata": {
        "id": "kJ5avW1wuZF6"
      },
      "source": [
        "## Data Splitting\n",
        "We split our image data array into training, validation and test sets. The training set is used to train the model while the validation set is used for hyperparameter tuning. Our true model performance is reported using the test set.  \n",
        "Since deep learning algorithms benefit from having more data for training, we will do an 80:10:10 split. We could make the training set larger but at the cost of the validation set, negatively effecting the tuning. Before we implement the code for splitting, we nee to reshape both the image data array and the labels according to Tensorflow requirements. We also convert the label array into categorical type."
      ]
    },
    {
      "cell_type": "code",
      "metadata": {
        "id": "nqsNwRRNveob"
      },
      "source": [
        "X = X.reshape((-1,224,224,1))\n",
        "\n",
        "y = y.reshape((-1,1))\n",
        "y = keras.utils.to_categorical(y, num_classes=4)"
      ],
      "execution_count": 9,
      "outputs": []
    },
    {
      "cell_type": "code",
      "metadata": {
        "colab": {
          "base_uri": "https://localhost:8080/"
        },
        "id": "5Pg2i9Wtv1Rv",
        "outputId": "9cf1856b-58eb-4eca-cf23-c28f8145141f"
      },
      "source": [
        "from sklearn.model_selection import train_test_split\n",
        "\n",
        "X_train, X_temp, y_train, y_temp = train_test_split(X, y, test_size=0.2, random_state=0)\n",
        "X_val, X_test, y_val, y_test = train_test_split(X_temp, y_temp, test_size=0.5, random_state=0)\n",
        "\n",
        "print(X_train.shape, '\\t', X_val.shape, '\\t', X_test.shape)\n",
        "print(y_train.shape, '\\t', y_val.shape, '\\t', y_test.shape)"
      ],
      "execution_count": 10,
      "outputs": [
        {
          "output_type": "stream",
          "text": [
            "(6092, 224, 224, 1) \t (762, 224, 224, 1) \t (762, 224, 224, 1)\n",
            "(6092, 4) \t (762, 4) \t (762, 4)\n"
          ],
          "name": "stdout"
        }
      ]
    },
    {
      "cell_type": "markdown",
      "metadata": {
        "id": "Greiu5HDzj_4"
      },
      "source": [
        "Our splitting in complete. The input is in the form (no of samples, width, height, no of color channels) and the output is in the form (no of samples, no of classes)"
      ]
    },
    {
      "cell_type": "markdown",
      "metadata": {
        "id": "kXvhP-Qj0b1g"
      },
      "source": [
        "## Model Design and Training\n",
        "Now, we design our CNN with all default hyperparameters."
      ]
    },
    {
      "cell_type": "code",
      "metadata": {
        "colab": {
          "base_uri": "https://localhost:8080/"
        },
        "id": "k9_5qwYI0v1_",
        "outputId": "d77f0b8e-6317-4b43-dffb-c3a77c922381"
      },
      "source": [
        "model = keras.models.Sequential()\n",
        "\n",
        "model.add(keras.layers.Conv2D(64, 5, activation='relu', input_shape=(224,224,1)))\n",
        "model.add(keras.layers.MaxPooling2D(2))\n",
        "model.add(keras.layers.Conv2D(128, 3, activation='relu'))\n",
        "model.add(keras.layers.MaxPooling2D(2))\n",
        "model.add(keras.layers.Conv2D(64, 3, activation='relu', padding=\"same\"))\n",
        "model.add(keras.layers.MaxPooling2D(2))\n",
        "model.add(keras.layers.Flatten())\n",
        "model.add(keras.layers.Dense(128, activation='relu'))\n",
        "model.add(keras.layers.Dense(64, activation='relu'))\n",
        "model.add(keras.layers.Dense(4, activation='softmax'))\n",
        "\n",
        "model.summary()"
      ],
      "execution_count": 11,
      "outputs": [
        {
          "output_type": "stream",
          "text": [
            "Model: \"sequential\"\n",
            "_________________________________________________________________\n",
            "Layer (type)                 Output Shape              Param #   \n",
            "=================================================================\n",
            "conv2d (Conv2D)              (None, 220, 220, 64)      1664      \n",
            "_________________________________________________________________\n",
            "max_pooling2d (MaxPooling2D) (None, 110, 110, 64)      0         \n",
            "_________________________________________________________________\n",
            "conv2d_1 (Conv2D)            (None, 108, 108, 128)     73856     \n",
            "_________________________________________________________________\n",
            "max_pooling2d_1 (MaxPooling2 (None, 54, 54, 128)       0         \n",
            "_________________________________________________________________\n",
            "conv2d_2 (Conv2D)            (None, 54, 54, 64)        73792     \n",
            "_________________________________________________________________\n",
            "max_pooling2d_2 (MaxPooling2 (None, 27, 27, 64)        0         \n",
            "_________________________________________________________________\n",
            "flatten (Flatten)            (None, 46656)             0         \n",
            "_________________________________________________________________\n",
            "dense (Dense)                (None, 128)               5972096   \n",
            "_________________________________________________________________\n",
            "dense_1 (Dense)              (None, 64)                8256      \n",
            "_________________________________________________________________\n",
            "dense_2 (Dense)              (None, 4)                 260       \n",
            "=================================================================\n",
            "Total params: 6,129,924\n",
            "Trainable params: 6,129,924\n",
            "Non-trainable params: 0\n",
            "_________________________________________________________________\n"
          ],
          "name": "stdout"
        }
      ]
    },
    {
      "cell_type": "markdown",
      "metadata": {
        "id": "vwZooeJ81ow9"
      },
      "source": [
        "For model compilation, we will use Adam optimizer with its default parameters of learning rate `lr=0.001` and we use `categorical_crossentropy` as our loss since this is a multiclass problem. The metric in focus will be accuracy."
      ]
    },
    {
      "cell_type": "code",
      "metadata": {
        "id": "ObHI6kol1xGK"
      },
      "source": [
        "model.compile(optimizer='adam', loss=\"categorical_crossentropy\", metrics=[\"accuracy\"])"
      ],
      "execution_count": 12,
      "outputs": []
    },
    {
      "cell_type": "markdown",
      "metadata": {
        "id": "23uuUXhj40EX"
      },
      "source": [
        "We will be using two callbacks in our training step; checkpoints and early stopping. Checkpointing ensures that the model is saved at regular intervals so that any disruption in training like internet instability or power loss does not completely negate whatever training has been done. Early stopping is used to interrupt training if there is no progress in a chosen metric. `patience=5` checks for no change in the metric for 5 continuous epochs. By default, that metric is validation loss and we will keep it that way."
      ]
    },
    {
      "cell_type": "code",
      "metadata": {
        "id": "284vIU4v2_QI"
      },
      "source": [
        "checkpoint = keras.callbacks.ModelCheckpoint('model1.h5', save_best_only=True)\n",
        "earlystop = keras.callbacks.EarlyStopping(patience=5, restore_best_weights=True)"
      ],
      "execution_count": 13,
      "outputs": []
    },
    {
      "cell_type": "code",
      "metadata": {
        "colab": {
          "base_uri": "https://localhost:8080/"
        },
        "id": "JkeBSk9J12-g",
        "outputId": "714ccd8f-50e6-49cd-b6a8-e9bbe4f14a4c"
      },
      "source": [
        "history1 = model.fit(x=X_train, y=y_train, batch_size=32, epochs=20, validation_data=(X_val, y_val), callbacks=[checkpoint, earlystop])"
      ],
      "execution_count": 14,
      "outputs": [
        {
          "output_type": "stream",
          "text": [
            "Epoch 1/20\n",
            "191/191 [==============================] - 41s 52ms/step - loss: 0.9944 - accuracy: 0.5906 - val_loss: 0.2474 - val_accuracy: 0.9265\n",
            "Epoch 2/20\n",
            "191/191 [==============================] - 9s 47ms/step - loss: 0.2267 - accuracy: 0.9224 - val_loss: 0.1379 - val_accuracy: 0.9541\n",
            "Epoch 3/20\n",
            "191/191 [==============================] - 9s 47ms/step - loss: 0.1404 - accuracy: 0.9520 - val_loss: 0.1307 - val_accuracy: 0.9528\n",
            "Epoch 4/20\n",
            "191/191 [==============================] - 9s 47ms/step - loss: 0.0995 - accuracy: 0.9632 - val_loss: 0.0731 - val_accuracy: 0.9816\n",
            "Epoch 5/20\n",
            "191/191 [==============================] - 9s 47ms/step - loss: 0.0449 - accuracy: 0.9864 - val_loss: 0.0464 - val_accuracy: 0.9895\n",
            "Epoch 6/20\n",
            "191/191 [==============================] - 9s 47ms/step - loss: 0.0653 - accuracy: 0.9770 - val_loss: 0.1830 - val_accuracy: 0.9593\n",
            "Epoch 7/20\n",
            "191/191 [==============================] - 9s 47ms/step - loss: 0.0510 - accuracy: 0.9834 - val_loss: 0.0424 - val_accuracy: 0.9895\n",
            "Epoch 8/20\n",
            "191/191 [==============================] - 9s 47ms/step - loss: 0.0158 - accuracy: 0.9947 - val_loss: 0.0569 - val_accuracy: 0.9816\n",
            "Epoch 9/20\n",
            "191/191 [==============================] - 9s 47ms/step - loss: 0.0078 - accuracy: 0.9982 - val_loss: 0.0491 - val_accuracy: 0.9882\n",
            "Epoch 10/20\n",
            "191/191 [==============================] - 9s 47ms/step - loss: 0.0035 - accuracy: 0.9988 - val_loss: 0.0387 - val_accuracy: 0.9908\n",
            "Epoch 11/20\n",
            "191/191 [==============================] - 9s 47ms/step - loss: 4.9475e-04 - accuracy: 0.9999 - val_loss: 0.0438 - val_accuracy: 0.9895\n",
            "Epoch 12/20\n",
            "191/191 [==============================] - 9s 47ms/step - loss: 0.0013 - accuracy: 0.9997 - val_loss: 0.0468 - val_accuracy: 0.9921\n",
            "Epoch 13/20\n",
            "191/191 [==============================] - 9s 47ms/step - loss: 0.0016 - accuracy: 0.9996 - val_loss: 0.0567 - val_accuracy: 0.9869\n",
            "Epoch 14/20\n",
            "191/191 [==============================] - 9s 47ms/step - loss: 0.0317 - accuracy: 0.9910 - val_loss: 0.0583 - val_accuracy: 0.9803\n",
            "Epoch 15/20\n",
            "191/191 [==============================] - 9s 47ms/step - loss: 0.0072 - accuracy: 0.9974 - val_loss: 0.0453 - val_accuracy: 0.9869\n"
          ],
          "name": "stdout"
        }
      ]
    },
    {
      "cell_type": "markdown",
      "metadata": {
        "id": "OqrXtbf881mA"
      },
      "source": [
        "Despite `epoch=20`, our training stopped at 15 epochs becuase of our early stopping callback. Now, let us plot two curves to see how our model behaved"
      ]
    },
    {
      "cell_type": "code",
      "metadata": {
        "colab": {
          "base_uri": "https://localhost:8080/",
          "height": 734
        },
        "id": "ETxBSf1K9Fpt",
        "outputId": "1ffa14b6-4d75-426b-bee1-3239f02ad061"
      },
      "source": [
        "fig, (a1,a2) = plt.subplots(2,1, figsize=(10,12))\n",
        "\n",
        "a1.plot(history1.history[\"loss\"], label=\"training\")\n",
        "a1.plot(history1.history[\"val_loss\"], label=\"validation\")\n",
        "a1.legend()\n",
        "a1.set_title(\"Loss\")\n",
        "\n",
        "a2.plot(history1.history[\"accuracy\"], label=\"training\")\n",
        "a2.plot(history1.history[\"val_accuracy\"], label=\"validation\")\n",
        "a2.legend()\n",
        "a2.set_title(\"Accuracy\")"
      ],
      "execution_count": 18,
      "outputs": [
        {
          "output_type": "execute_result",
          "data": {
            "text/plain": [
              "Text(0.5, 1.0, 'Accuracy')"
            ]
          },
          "metadata": {
            "tags": []
          },
          "execution_count": 18
        },
        {
          "output_type": "display_data",
          "data": {
            "image/png": "[encoded data removed]",
            "text/plain": [
              "<Figure size 720x864 with 2 Axes>"
            ]
          },
          "metadata": {
            "tags": [],
            "needs_background": "light"
          }
        }
      ]
    },
    {
      "cell_type": "markdown",
      "metadata": {
        "id": "RFRawU4B-C0V"
      },
      "source": [
        "Looking at both graphs, we can see that the accuracy and loss curves start stabilizing at epoch 10. This provides direct evidence to why our model stopped at epoch 15, becuase the patience parameter for early stopping was set to 5."
      ]
    },
    {
      "cell_type": "markdown",
      "metadata": {
        "id": "WgLE89er-o33"
      },
      "source": [
        "## Manual Improvemnets & Hyperparameter Tuning\n",
        "Hyperparameter are attributes or variables that we can set manually to improve the performance of the model. The main difference between hyperparameters and parameters are that hyperparameters are independent to the training data whereas the parameters are set according to the training data.\n",
        "In most image classification problems, the following can be done:\n",
        "* **Regularization**: This is not directly a hyperparameter but introduces important hyperparameters into our model. Regularization is the process of generalising the model so as to prevent overfitting. The most commonly used methods are l1, l2, dropout, max-norm, Monte Carlo dropout etc. For CNNs, dropout usually works well and can provide considerbale improvement when added just after the pooling layers. Regularization should be used if there is a significant difference in training accuracy and validation accuracy. The dropout layer has a hyperparameter that controls the percentage of dropout and is 0.5 (50%) by default. We can try out 0.2 as well as 0.7 for fine tuning.\n",
        "* **Learning rate**: This is arguably the first hyperparameter that should tune. It controls how much we are adjusting the weights of our network with respect the loss gradient. The lower the value, the slower we travel along the downward slope.Typically, this is configured naively at random by the user. The best way to tune it is to try a learning rate 10 times higher as well as 10 times lower than the default. Whichever direction gives the better result should be explored further by further decreasing or increasing accordingly.\n",
        "* **Epochs**: We did tune this using early stopping in our model.\n",
        "* **Model Architecture**: This is the big one. Deep learning models when designed have infinte possibilities of what can be done. We can change the number of number of convolutional layers, no of dense layers, activation funtion, no of filters, filter size, pooling type, pooling value, stride, padding etc. To solve this, I prefer weilding the power of the Internet by looking up similar problems to the one at hand and copying those models first for my data. For example, I used the blueprint of a CNN taught in my Grad course for classifcation on the FashionMNIST data here. That was more complex, so I trimmed down a few layers. It is an iterative process and requires intuition and experience.  \n",
        "\n",
        "We will not tune our model for the following two reasons:\n",
        "* Colab has already crashed once due to RAM limitations and I prefer not risking it again. This is why I added the checkpoint callback.\n",
        "* Our model has already given amazing results of close to 99% validation accuracy. Tuning with the aim of reaching 100% accuracy is unneccesary and might even harm our test accuracy."
      ]
    },
    {
      "cell_type": "markdown",
      "metadata": {
        "id": "6ZDbPOCjGTYL"
      },
      "source": [
        "## Final Steps\n",
        "Penultimately, we calculate the accuracy of our model on our untouched test data."
      ]
    },
    {
      "cell_type": "code",
      "metadata": {
        "colab": {
          "base_uri": "https://localhost:8080/"
        },
        "id": "sQVTrrQp_Y3x",
        "outputId": "89d4028e-fa13-487d-f195-d7e179921784"
      },
      "source": [
        "model.evaluate(X_test, y_test)"
      ],
      "execution_count": 19,
      "outputs": [
        {
          "output_type": "stream",
          "text": [
            "24/24 [==============================] - 0s 19ms/step - loss: 0.0646 - accuracy: 0.9856\n"
          ],
          "name": "stdout"
        },
        {
          "output_type": "execute_result",
          "data": {
            "text/plain": [
              "[0.06461290270090103, 0.9855642914772034]"
            ]
          },
          "metadata": {
            "tags": []
          },
          "execution_count": 19
        }
      ]
    },
    {
      "cell_type": "markdown",
      "metadata": {
        "id": "F8u-cSmQGki5"
      },
      "source": [
        "We get 98.56% test accuracy, which is very close to the validation and training accuracy we obtained. This indicates that our model has generalised well. Finally, we save our model in `.h5` format so that it can be used in scripts or othe projects. "
      ]
    },
    {
      "cell_type": "code",
      "metadata": {
        "colab": {
          "base_uri": "https://localhost:8080/",
          "height": 17
        },
        "id": "qF9A3PWN_wxk",
        "outputId": "5ed206d6-ed80-4646-bf6e-ec5dc3b9cd53"
      },
      "source": [
        "#GConly\n",
        "from google.colab import files\n",
        "\n",
        "files.download(\"model1.h5\")"
      ],
      "execution_count": 20,
      "outputs": [
        {
          "output_type": "display_data",
          "data": {
            "application/javascript": [
              "\n",
              "    async function download(id, filename, size) {\n",
              "      if (!google.colab.kernel.accessAllowed) {\n",
              "        return;\n",
              "      }\n",
              "      const div = document.createElement('div');\n",
              "      const label = document.createElement('label');\n",
              "      label.textContent = `Downloading \"${filename}\": `;\n",
              "      div.appendChild(label);\n",
              "      const progress = document.createElement('progress');\n",
              "      progress.max = size;\n",
              "      div.appendChild(progress);\n",
              "      document.body.appendChild(div);\n",
              "\n",
              "      const buffers = [];\n",
              "      let downloaded = 0;\n",
              "\n",
              "      const channel = await google.colab.kernel.comms.open(id);\n",
              "      // Send a message to notify the kernel that we're ready.\n",
              "      channel.send({})\n",
              "\n",
              "      for await (const message of channel.messages) {\n",
              "        // Send a message to notify the kernel that we're ready.\n",
              "        channel.send({})\n",
              "        if (message.buffers) {\n",
              "          for (const buffer of message.buffers) {\n",
              "            buffers.push(buffer);\n",
              "            downloaded += buffer.byteLength;\n",
              "            progress.value = downloaded;\n",
              "          }\n",
              "        }\n",
              "      }\n",
              "      const blob = new Blob(buffers, {type: 'application/binary'});\n",
              "      const a = document.createElement('a');\n",
              "      a.href = window.URL.createObjectURL(blob);\n",
              "      a.download = filename;\n",
              "      div.appendChild(a);\n",
              "      a.click();\n",
              "      div.remove();\n",
              "    }\n",
              "  "
            ],
            "text/plain": [
              "<IPython.core.display.Javascript object>"
            ]
          },
          "metadata": {
            "tags": []
          }
        },
        {
          "output_type": "display_data",
          "data": {
            "application/javascript": [
              "download(\"download_d6a9b09c-40c5-45ec-9f8b-cad7e8e55d29\", \"model1.h5\", 73620232)"
            ],
            "text/plain": [
              "<IPython.core.display.Javascript object>"
            ]
          },
          "metadata": {
            "tags": []
          }
        }
      ]
    }
  ]
}